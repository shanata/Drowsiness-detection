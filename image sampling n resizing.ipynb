{
 "cells": [
  {
   "cell_type": "code",
   "execution_count": 3,
   "id": "8dae5ea1",
   "metadata": {
    "ExecuteTime": {
     "end_time": "2022-06-03T00:22:07.381443Z",
     "start_time": "2022-06-03T00:21:58.359980Z"
    }
   },
   "outputs": [],
   "source": [
    "from PIL import Image\n",
    "import os\n",
    "import torch\n",
    "from matplotlib import pyplot as plt\n",
    "import numpy as np\n",
    "import cv2\n",
    "import re"
   ]
  },
  {
   "cell_type": "code",
   "execution_count": 7,
   "id": "4aa5eb81",
   "metadata": {
    "ExecuteTime": {
     "end_time": "2022-06-03T00:24:23.860633Z",
     "start_time": "2022-06-03T00:24:23.856643Z"
    }
   },
   "outputs": [],
   "source": [
    "from random import shuffle"
   ]
  },
  {
   "cell_type": "markdown",
   "id": "a59022c6",
   "metadata": {},
   "source": [
    "## set up"
   ]
  },
  {
   "cell_type": "code",
   "execution_count": 4,
   "id": "3c1d355e",
   "metadata": {
    "ExecuteTime": {
     "end_time": "2022-06-03T00:22:25.778460Z",
     "start_time": "2022-06-03T00:22:10.180945Z"
    }
   },
   "outputs": [
    {
     "name": "stderr",
     "output_type": "stream",
     "text": [
      "Using cache found in C:\\Users\\34346/.cache\\torch\\hub\\ultralytics_yolov5_master\n",
      "YOLOv5  2022-6-3 Python-3.8.8 torch-1.8.2+cu111 CUDA:0 (NVIDIA GeForce GTX 1050, 4096MiB)\n",
      "\n",
      "Fusing layers... \n",
      "YOLOv5s summary: 213 layers, 7225885 parameters, 0 gradients\n",
      "Adding AutoShape... \n"
     ]
    }
   ],
   "source": [
    "model = torch.hub.load('ultralytics/yolov5', 'yolov5s')"
   ]
  },
  {
   "cell_type": "code",
   "execution_count": null,
   "id": "e9d04b24",
   "metadata": {},
   "outputs": [],
   "source": []
  },
  {
   "cell_type": "code",
   "execution_count": null,
   "id": "44bb1bed",
   "metadata": {},
   "outputs": [],
   "source": []
  },
  {
   "cell_type": "markdown",
   "id": "fef899a4",
   "metadata": {},
   "source": [
    "## resizing and save"
   ]
  },
  {
   "cell_type": "code",
   "execution_count": 11,
   "id": "9defe7ea",
   "metadata": {
    "ExecuteTime": {
     "end_time": "2022-06-03T00:31:17.116011Z",
     "start_time": "2022-06-03T00:31:15.521491Z"
    }
   },
   "outputs": [],
   "source": [
    "path_dir = 'dataset/data_4/Awake'\n",
    "file_list = os.listdir(path_dir)\n",
    "shuffle(file_list)\n",
    "lst = file_list[:20]\n",
    "for file_name in lst:\n",
    "    path = path_dir + \"/\"+ file_name\n",
    "    img = Image.open(path)\n",
    "\n",
    "    img_resize = img.resize((320, 320))\n",
    "    img_resize.save('light_dataset/Awake/'+file_name)\n",
    "    "
   ]
  },
  {
   "cell_type": "code",
   "execution_count": 12,
   "id": "bd2440b2",
   "metadata": {
    "ExecuteTime": {
     "end_time": "2022-06-03T00:31:18.555202Z",
     "start_time": "2022-06-03T00:31:17.181549Z"
    }
   },
   "outputs": [],
   "source": [
    "path_dir = 'dataset/data_4/Drowsy'\n",
    "file_list = os.listdir(path_dir)\n",
    "shuffle(file_list)\n",
    "lst = file_list[:20]\n",
    "for file_name in lst:\n",
    "    path = path_dir + \"/\"+ file_name\n",
    "    img = Image.open(path)\n",
    "\n",
    "    img_resize = img.resize((320, 320))\n",
    "    img_resize.save('light_dataset/Drowsy/'+file_name)"
   ]
  },
  {
   "cell_type": "markdown",
   "id": "0a0545b0",
   "metadata": {},
   "source": [
    "## auto_tagging"
   ]
  },
  {
   "cell_type": "code",
   "execution_count": 13,
   "id": "312d2612",
   "metadata": {
    "ExecuteTime": {
     "end_time": "2022-06-03T00:33:38.954899Z",
     "start_time": "2022-06-03T00:33:34.588813Z"
    }
   },
   "outputs": [],
   "source": [
    "path_dir = 'light_dataset/Awake'\n",
    "file_list = os.listdir(path_dir)\n",
    "for file_name in file_list:\n",
    "    path = path_dir + \"/\"+ file_name\n",
    "    image_pil = Image.open(path)\n",
    "    img = np.array(image_pil)\n",
    "    results = model(img)\n",
    "    for i in results.xywhn[0]:\n",
    "        if i[-1] == 0: \n",
    "            a = list(i[0:4])\n",
    "    numbers = re.findall(r'\\d+', str(a))\n",
    "    string_ = str(numbers[0]+'.'+numbers[1]+' '+numbers[3]+'.'+numbers[4]+' '+numbers[6]+'.'+numbers[7]+' '+numbers[9]+'.'+numbers[10])\n",
    "    string_ = \"17 \" + string_\n",
    "    \n",
    "    \n",
    "    \n",
    "    with open('light_dataset/labels/'+str(file_name[:-4])+\".txt\", \"w\") as f:\n",
    "        f.write(string_)"
   ]
  },
  {
   "cell_type": "code",
   "execution_count": 14,
   "id": "556e5eda",
   "metadata": {
    "ExecuteTime": {
     "end_time": "2022-06-03T00:33:41.395128Z",
     "start_time": "2022-06-03T00:33:39.066466Z"
    }
   },
   "outputs": [],
   "source": [
    "path_dir = 'light_dataset/Drowsy'\n",
    "file_list = os.listdir(path_dir)\n",
    "for file_name in file_list:\n",
    "    path = path_dir + \"/\"+ file_name\n",
    "    image_pil = Image.open(path)\n",
    "    img = np.array(image_pil)\n",
    "    results = model(img)\n",
    "    for i in results.xywhn[0]:\n",
    "        if i[-1] == 0: \n",
    "            a = list(i[0:4])\n",
    "    numbers = re.findall(r'\\d+', str(a))\n",
    "    string_ = str(numbers[0]+'.'+numbers[1]+' '+numbers[3]+'.'+numbers[4]+' '+numbers[6]+'.'+numbers[7]+' '+numbers[9]+'.'+numbers[10])\n",
    "    string_ = \"18 \" + string_\n",
    "    \n",
    "    \n",
    "    \n",
    "    with open('light_dataset/labels/'+str(file_name[:-4])+\".txt\", \"w\") as f:\n",
    "        f.write(string_)"
   ]
  },
  {
   "cell_type": "code",
   "execution_count": null,
   "id": "0c0c77ef",
   "metadata": {},
   "outputs": [],
   "source": []
  }
 ],
 "metadata": {
  "kernelspec": {
   "display_name": "Python 3",
   "language": "python",
   "name": "python3"
  },
  "language_info": {
   "codemirror_mode": {
    "name": "ipython",
    "version": 3
   },
   "file_extension": ".py",
   "mimetype": "text/x-python",
   "name": "python",
   "nbconvert_exporter": "python",
   "pygments_lexer": "ipython3",
   "version": "3.8.8"
  },
  "toc": {
   "base_numbering": 1,
   "nav_menu": {},
   "number_sections": true,
   "sideBar": true,
   "skip_h1_title": false,
   "title_cell": "Table of Contents",
   "title_sidebar": "Contents",
   "toc_cell": false,
   "toc_position": {},
   "toc_section_display": true,
   "toc_window_display": false
  },
  "varInspector": {
   "cols": {
    "lenName": 16,
    "lenType": 16,
    "lenVar": 40
   },
   "kernels_config": {
    "python": {
     "delete_cmd_postfix": "",
     "delete_cmd_prefix": "del ",
     "library": "var_list.py",
     "varRefreshCmd": "print(var_dic_list())"
    },
    "r": {
     "delete_cmd_postfix": ") ",
     "delete_cmd_prefix": "rm(",
     "library": "var_list.r",
     "varRefreshCmd": "cat(var_dic_list()) "
    }
   },
   "types_to_exclude": [
    "module",
    "function",
    "builtin_function_or_method",
    "instance",
    "_Feature"
   ],
   "window_display": false
  }
 },
 "nbformat": 4,
 "nbformat_minor": 5
}
