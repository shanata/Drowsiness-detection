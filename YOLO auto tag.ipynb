{
 "cells": [
  {
   "cell_type": "code",
   "execution_count": null,
   "id": "bcdeaab3",
   "metadata": {},
   "outputs": [],
   "source": [
    "# 데이터 대충 auto tag 하는 방법이니 시간이 많다면 추천하지 않음"
   ]
  },
  {
   "cell_type": "code",
   "execution_count": 1,
   "id": "7b23c9bd",
   "metadata": {
    "ExecuteTime": {
     "end_time": "2022-06-02T09:57:39.291294Z",
     "start_time": "2022-06-02T09:57:37.246427Z"
    }
   },
   "outputs": [],
   "source": [
    "import os\n",
    "from PIL import Image\n",
    "import torch\n",
    "from matplotlib import pyplot as plt\n",
    "import numpy as np\n",
    "import cv2\n"
   ]
  },
  {
   "cell_type": "code",
   "execution_count": null,
   "id": "5dbeb294",
   "metadata": {},
   "outputs": [],
   "source": []
  },
  {
   "cell_type": "code",
   "execution_count": null,
   "id": "9183aaf3",
   "metadata": {},
   "outputs": [],
   "source": [
    "# 15 open_eye 16 close_eye 17 awake  18 drowsy"
   ]
  },
  {
   "cell_type": "markdown",
   "id": "d76cbac6",
   "metadata": {},
   "source": [
    "### data_1"
   ]
  },
  {
   "cell_type": "code",
   "execution_count": null,
   "id": "bad3edeb",
   "metadata": {},
   "outputs": [],
   "source": [
    "#data_1 은 감은눈/ 뜬눈 있는 흑백사진 각 2천장 "
   ]
  },
  {
   "cell_type": "code",
   "execution_count": null,
   "id": "3a38cd8e",
   "metadata": {},
   "outputs": [],
   "source": [
    "# https://www.kaggle.com/datasets/prasadvpatil/mrl-dataset "
   ]
  },
  {
   "cell_type": "code",
   "execution_count": null,
   "id": "cd98283e",
   "metadata": {},
   "outputs": [],
   "source": [
    "# testing"
   ]
  },
  {
   "cell_type": "code",
   "execution_count": 6,
   "id": "b34ecc48",
   "metadata": {
    "ExecuteTime": {
     "end_time": "2022-06-02T09:58:59.202563Z",
     "start_time": "2022-06-02T09:58:59.183614Z"
    }
   },
   "outputs": [],
   "source": [
    "path_dir = 'dataset/data_1/Open_Eyes'\n",
    "file_list = os.listdir(path_dir)"
   ]
  },
  {
   "cell_type": "code",
   "execution_count": 7,
   "id": "e3d90ec1",
   "metadata": {
    "ExecuteTime": {
     "end_time": "2022-06-02T09:59:10.468514Z",
     "start_time": "2022-06-02T09:59:10.447588Z"
    }
   },
   "outputs": [
    {
     "data": {
      "text/plain": [
       "2000"
      ]
     },
     "execution_count": 7,
     "metadata": {},
     "output_type": "execute_result"
    }
   ],
   "source": [
    "len(file_list)"
   ]
  },
  {
   "cell_type": "code",
   "execution_count": 12,
   "id": "c72bc9a4",
   "metadata": {
    "ExecuteTime": {
     "end_time": "2022-06-02T10:31:50.908506Z",
     "start_time": "2022-06-02T10:31:50.901641Z"
    }
   },
   "outputs": [
    {
     "data": {
      "text/plain": [
       "'s0001_02334_0_0_1_0_0_01'"
      ]
     },
     "execution_count": 12,
     "metadata": {},
     "output_type": "execute_result"
    }
   ],
   "source": [
    "file_list[0][:-4]"
   ]
  },
  {
   "cell_type": "code",
   "execution_count": 18,
   "id": "77923649",
   "metadata": {
    "ExecuteTime": {
     "end_time": "2022-06-02T10:36:21.680876Z",
     "start_time": "2022-06-02T10:36:21.670791Z"
    }
   },
   "outputs": [],
   "source": [
    "with open('data/labels/'+\"foo.txt\", \"w\") as f:\n",
    "    f.write(\"15 0.506024 0.506024 0.987952 0.987952\")"
   ]
  },
  {
   "cell_type": "code",
   "execution_count": null,
   "id": "577f03ed",
   "metadata": {},
   "outputs": [],
   "source": [
    "# open"
   ]
  },
  {
   "cell_type": "code",
   "execution_count": 19,
   "id": "a0ef499f",
   "metadata": {
    "ExecuteTime": {
     "end_time": "2022-06-02T10:39:09.043282Z",
     "start_time": "2022-06-02T10:39:06.863112Z"
    }
   },
   "outputs": [],
   "source": [
    "path_dir = 'dataset/data_1/Open_Eyes'\n",
    "file_list = os.listdir(path_dir)\n",
    "for file_name in file_list:\n",
    "    with open('data/labels/'+str(file_name[:-4])+\".txt\", \"w\") as f:\n",
    "        f.write(\"15 0.506024 0.506024 0.987952 0.987952\")"
   ]
  },
  {
   "cell_type": "code",
   "execution_count": null,
   "id": "1d024c43",
   "metadata": {},
   "outputs": [],
   "source": [
    "# close"
   ]
  },
  {
   "cell_type": "code",
   "execution_count": 20,
   "id": "44122071",
   "metadata": {
    "ExecuteTime": {
     "end_time": "2022-06-02T10:40:39.869994Z",
     "start_time": "2022-06-02T10:40:37.734703Z"
    }
   },
   "outputs": [],
   "source": [
    "path_dir = 'dataset/data_1/Closed_Eyes'\n",
    "file_list = os.listdir(path_dir)\n",
    "for file_name in file_list:\n",
    "    with open('data/labels/'+str(file_name[:-4])+\".txt\", \"w\") as f:\n",
    "        f.write(\"16 0.505814 0.505814 0.988372 0.988372\")"
   ]
  },
  {
   "cell_type": "code",
   "execution_count": null,
   "id": "70969526",
   "metadata": {},
   "outputs": [],
   "source": []
  },
  {
   "cell_type": "markdown",
   "id": "9eb09a4d",
   "metadata": {},
   "source": [
    "### data_2"
   ]
  },
  {
   "cell_type": "code",
   "execution_count": null,
   "id": "59a0ff5e",
   "metadata": {},
   "outputs": [],
   "source": [
    "# data_2는 감은눈/ 뜬눈 있는 컬러 사진 각 109개"
   ]
  },
  {
   "cell_type": "code",
   "execution_count": null,
   "id": "70386e97",
   "metadata": {},
   "outputs": [],
   "source": [
    "# https://www.kaggle.com/datasets/serenaraju/yawn-eye-dataset-new"
   ]
  },
  {
   "cell_type": "code",
   "execution_count": null,
   "id": "6cbadeca",
   "metadata": {},
   "outputs": [],
   "source": [
    "# open"
   ]
  },
  {
   "cell_type": "code",
   "execution_count": 21,
   "id": "7ceb1b9c",
   "metadata": {
    "ExecuteTime": {
     "end_time": "2022-06-02T10:42:20.213414Z",
     "start_time": "2022-06-02T10:42:19.503318Z"
    }
   },
   "outputs": [],
   "source": [
    "path_dir = 'dataset/data_2/Open_Eyes'\n",
    "file_list = os.listdir(path_dir)\n",
    "for file_name in file_list:\n",
    "    with open('data/labels/'+str(file_name[:-4])+\".txt\", \"w\") as f:\n",
    "        f.write(\"\"\"15 0.503448 0.503448 0.993103 0.993103\n",
    "\"\"\")"
   ]
  },
  {
   "cell_type": "code",
   "execution_count": null,
   "id": "78faba5c",
   "metadata": {},
   "outputs": [],
   "source": [
    "# close"
   ]
  },
  {
   "cell_type": "code",
   "execution_count": 22,
   "id": "a5698dd8",
   "metadata": {
    "ExecuteTime": {
     "end_time": "2022-06-02T10:45:48.057719Z",
     "start_time": "2022-06-02T10:45:47.350610Z"
    }
   },
   "outputs": [],
   "source": [
    "path_dir = 'dataset/data_2/Closed_Eyes'\n",
    "file_list = os.listdir(path_dir)\n",
    "for file_name in file_list:\n",
    "    with open('data/labels/'+str(file_name[:-4])+\".txt\", \"w\") as f:\n",
    "        f.write(\"\"\"16 0.503448 0.503448 0.993103 0.993103\n",
    "\"\"\")"
   ]
  },
  {
   "cell_type": "markdown",
   "id": "3c9c212b",
   "metadata": {},
   "source": [
    "### data_3"
   ]
  },
  {
   "cell_type": "code",
   "execution_count": null,
   "id": "81c5797d",
   "metadata": {},
   "outputs": [],
   "source": [
    "#data_3 은 졸린사진/ 안졸린사진 얼굴만/ 총 약 4만장"
   ]
  },
  {
   "cell_type": "code",
   "execution_count": null,
   "id": "9b4d338a",
   "metadata": {},
   "outputs": [],
   "source": [
    "# https://www.kaggle.com/datasets/ismailnasri20/driver-drowsiness-dataset-ddd"
   ]
  },
  {
   "cell_type": "code",
   "execution_count": null,
   "id": "ed8bfeaf",
   "metadata": {},
   "outputs": [],
   "source": [
    "# awake"
   ]
  },
  {
   "cell_type": "code",
   "execution_count": 23,
   "id": "974c1b40",
   "metadata": {
    "ExecuteTime": {
     "end_time": "2022-06-02T10:49:16.733819Z",
     "start_time": "2022-06-02T10:48:57.582964Z"
    }
   },
   "outputs": [],
   "source": [
    "path_dir = 'dataset/data_3/Awake'\n",
    "file_list = os.listdir(path_dir)\n",
    "for file_name in file_list:\n",
    "    with open('data/labels/'+str(file_name[:-4])+\".txt\", \"w\") as f:\n",
    "        f.write(\"\"\"17 0.502203 0.502203 0.995595 0.995595\n",
    "\"\"\")"
   ]
  },
  {
   "cell_type": "code",
   "execution_count": null,
   "id": "223a7318",
   "metadata": {},
   "outputs": [],
   "source": [
    "# drowsy"
   ]
  },
  {
   "cell_type": "code",
   "execution_count": 24,
   "id": "59e31ea8",
   "metadata": {
    "ExecuteTime": {
     "end_time": "2022-06-02T10:49:34.461340Z",
     "start_time": "2022-06-02T10:49:16.750774Z"
    }
   },
   "outputs": [],
   "source": [
    "path_dir = 'dataset/data_3/Drowsy'\n",
    "file_list = os.listdir(path_dir)\n",
    "for file_name in file_list:\n",
    "    with open('data/labels/'+str(file_name[:-4])+\".txt\", \"w\") as f:\n",
    "        f.write(\"\"\"18 0.502203 0.502203 0.995595 0.995595\n",
    "\"\"\")"
   ]
  },
  {
   "cell_type": "markdown",
   "id": "1192dde4",
   "metadata": {},
   "source": [
    "## testing --------------------------------------------------------------------------"
   ]
  },
  {
   "cell_type": "code",
   "execution_count": 25,
   "id": "f9fff442",
   "metadata": {
    "ExecuteTime": {
     "end_time": "2022-06-02T10:49:51.526321Z",
     "start_time": "2022-06-02T10:49:44.644716Z"
    }
   },
   "outputs": [
    {
     "name": "stderr",
     "output_type": "stream",
     "text": [
      "Using cache found in C:\\Users\\34346/.cache\\torch\\hub\\ultralytics_yolov5_master\n",
      "YOLOv5  2022-6-2 Python-3.8.8 torch-1.8.2+cu111 CUDA:0 (NVIDIA GeForce GTX 1050, 4096MiB)\n",
      "\n",
      "Fusing layers... \n",
      "YOLOv5s summary: 213 layers, 7225885 parameters, 0 gradients, 16.5 GFLOPs\n",
      "Adding AutoShape... \n"
     ]
    }
   ],
   "source": [
    "model = torch.hub.load('ultralytics/yolov5', 'yolov5s')"
   ]
  },
  {
   "cell_type": "code",
   "execution_count": 32,
   "id": "72e0aaab",
   "metadata": {
    "ExecuteTime": {
     "end_time": "2022-06-02T10:54:00.634325Z",
     "start_time": "2022-06-02T10:54:00.615376Z"
    }
   },
   "outputs": [],
   "source": [
    "path_dir = 'dataset/data_4/Awake'\n",
    "file_list = os.listdir(path_dir)\n",
    "path = path_dir + \"/\"+file_list[0]"
   ]
  },
  {
   "cell_type": "code",
   "execution_count": 33,
   "id": "d42acd36",
   "metadata": {
    "ExecuteTime": {
     "end_time": "2022-06-02T10:54:01.181697Z",
     "start_time": "2022-06-02T10:54:01.173782Z"
    }
   },
   "outputs": [
    {
     "data": {
      "text/plain": [
       "'dataset/data_4/Awake/image_0 (10).jpg'"
      ]
     },
     "execution_count": 33,
     "metadata": {},
     "output_type": "execute_result"
    }
   ],
   "source": [
    "path"
   ]
  },
  {
   "cell_type": "code",
   "execution_count": 34,
   "id": "9da28d35",
   "metadata": {
    "ExecuteTime": {
     "end_time": "2022-06-02T10:54:03.392769Z",
     "start_time": "2022-06-02T10:54:03.357857Z"
    }
   },
   "outputs": [],
   "source": [
    "image_pil = Image.open(path)\n",
    "img = np.array(image_pil)"
   ]
  },
  {
   "cell_type": "code",
   "execution_count": 35,
   "id": "58b86a98",
   "metadata": {
    "ExecuteTime": {
     "end_time": "2022-06-02T10:54:04.366729Z",
     "start_time": "2022-06-02T10:54:04.118393Z"
    }
   },
   "outputs": [
    {
     "name": "stdout",
     "output_type": "stream",
     "text": [
      "image 1/1: 480x640 1 person, 2 cars\n",
      "Speed: 6.0ms pre-process, 219.4ms inference, 12.0ms NMS per image at shape (1, 3, 480, 640)\n"
     ]
    }
   ],
   "source": [
    "results = model(img)\n",
    "results.print()"
   ]
  },
  {
   "cell_type": "code",
   "execution_count": 36,
   "id": "ef0594fd",
   "metadata": {
    "ExecuteTime": {
     "end_time": "2022-06-02T10:54:05.284617Z",
     "start_time": "2022-06-02T10:54:05.004368Z"
    }
   },
   "outputs": [
    {
     "data": {
      "image/png": "[encoded data removed]",
      "text/plain": [
       "<Figure size 432x288 with 1 Axes>"
      ]
     },
     "metadata": {
      "needs_background": "light"
     },
     "output_type": "display_data"
    }
   ],
   "source": [
    "%matplotlib inline \n",
    "plt.imshow(np.squeeze(results.render()))\n",
    "plt.show()"
   ]
  },
  {
   "cell_type": "code",
   "execution_count": 58,
   "id": "e9789154",
   "metadata": {
    "ExecuteTime": {
     "end_time": "2022-06-02T11:15:20.133768Z",
     "start_time": "2022-06-02T11:15:20.110822Z"
    }
   },
   "outputs": [
    {
     "data": {
      "text/plain": [
       "[tensor([[0.06542, 0.55266, 0.12518, 0.05937, 0.77865, 2.00000],\n",
       "         [0.82146, 0.47769, 0.35585, 0.80100, 0.33995, 2.00000],\n",
       "         [0.36287, 0.52037, 0.68313, 0.65253, 0.27430, 0.00000]], device='cuda:0')]"
      ]
     },
     "execution_count": 58,
     "metadata": {},
     "output_type": "execute_result"
    }
   ],
   "source": [
    "results.xywhn"
   ]
  },
  {
   "cell_type": "code",
   "execution_count": 61,
   "id": "1418205d",
   "metadata": {
    "ExecuteTime": {
     "end_time": "2022-06-02T11:21:31.661795Z",
     "start_time": "2022-06-02T11:21:31.646058Z"
    }
   },
   "outputs": [],
   "source": [
    "for i in results.xywhn[0]:\n",
    "    if i[-1] == 0: \n",
    "        a = list(i[0:4])"
   ]
  },
  {
   "cell_type": "code",
   "execution_count": 65,
   "id": "0d532364",
   "metadata": {
    "ExecuteTime": {
     "end_time": "2022-06-02T11:23:13.373922Z",
     "start_time": "2022-06-02T11:23:13.356967Z"
    }
   },
   "outputs": [
    {
     "name": "stdout",
     "output_type": "stream",
     "text": [
      "['0', '36287', '0', '0', '52037', '0', '0', '68313', '0', '0', '65253', '0']\n"
     ]
    }
   ],
   "source": [
    "import re\n",
    "\n",
    "numbers = re.findall(r'\\d+', str(a))\n"
   ]
  },
  {
   "cell_type": "code",
   "execution_count": 68,
   "id": "dfb72dae",
   "metadata": {
    "ExecuteTime": {
     "end_time": "2022-06-02T11:26:58.579146Z",
     "start_time": "2022-06-02T11:26:58.566182Z"
    }
   },
   "outputs": [
    {
     "name": "stdout",
     "output_type": "stream",
     "text": [
      "0.36287 0.52037 0.68313 0.65253\n"
     ]
    }
   ],
   "source": [
    "print(str(numbers[0]+'.'+numbers[1]+' '+numbers[3]+'.'+numbers[4]+' '+numbers[6]+'.'+numbers[7]+' '+numbers[9]+'.'+numbers[10]))"
   ]
  },
  {
   "cell_type": "markdown",
   "id": "9779c242",
   "metadata": {},
   "source": [
    "### data_4"
   ]
  },
  {
   "cell_type": "code",
   "execution_count": null,
   "id": "d08589dc",
   "metadata": {},
   "outputs": [],
   "source": [
    "#data_4는 졸린사진/안졸린사진 상체만 /총 약 1만장  4번은 yolo로 한번 찾아야 함."
   ]
  },
  {
   "cell_type": "code",
   "execution_count": null,
   "id": "a7431fbd",
   "metadata": {},
   "outputs": [],
   "source": [
    "# https://www.kaggle.com/datasets/rakibuleceruet/drowsiness-prediction-dataset"
   ]
  },
  {
   "cell_type": "code",
   "execution_count": null,
   "id": "58d6d634",
   "metadata": {},
   "outputs": [],
   "source": [
    "# awake"
   ]
  },
  {
   "cell_type": "code",
   "execution_count": 71,
   "id": "137cdc90",
   "metadata": {
    "ExecuteTime": {
     "end_time": "2022-06-02T11:37:47.517500Z",
     "start_time": "2022-06-02T11:31:57.974661Z"
    }
   },
   "outputs": [],
   "source": [
    "path_dir = 'dataset/data_4/Awake'\n",
    "file_list = os.listdir(path_dir)\n",
    "for file_name in file_list:\n",
    "    path = path_dir + \"/\"+ file_name\n",
    "    image_pil = Image.open(path)\n",
    "    img = np.array(image_pil)\n",
    "    results = model(img)\n",
    "    for i in results.xywhn[0]:\n",
    "        if i[-1] == 0: \n",
    "            a = list(i[0:4])\n",
    "    numbers = re.findall(r'\\d+', str(a))\n",
    "    string_ = str(numbers[0]+'.'+numbers[1]+' '+numbers[3]+'.'+numbers[4]+' '+numbers[6]+'.'+numbers[7]+' '+numbers[9]+'.'+numbers[10])\n",
    "    string_ = \"17 \" + string_\n",
    "    \n",
    "    \n",
    "    \n",
    "    with open('data/labels/'+str(file_name[:-4])+\".txt\", \"w\") as f:\n",
    "        f.write(string_)"
   ]
  },
  {
   "cell_type": "code",
   "execution_count": null,
   "id": "5bb1a75b",
   "metadata": {},
   "outputs": [],
   "source": [
    "# Drowsy"
   ]
  },
  {
   "cell_type": "code",
   "execution_count": 72,
   "id": "2e2f2fa4",
   "metadata": {
    "ExecuteTime": {
     "end_time": "2022-06-02T11:45:36.652483Z",
     "start_time": "2022-06-02T11:37:47.568365Z"
    }
   },
   "outputs": [
    {
     "name": "stderr",
     "output_type": "stream",
     "text": [
      "WARNING: NMS time limit 0.330s exceeded\n",
      "WARNING: NMS time limit 0.330s exceeded\n"
     ]
    }
   ],
   "source": [
    "path_dir = 'dataset/data_4/Drowsy'\n",
    "file_list = os.listdir(path_dir)\n",
    "for file_name in file_list:\n",
    "    path = path_dir + \"/\"+ file_name\n",
    "    image_pil = Image.open(path)\n",
    "    img = np.array(image_pil)\n",
    "    results = model(img)\n",
    "    for i in results.xywhn[0]:\n",
    "        if i[-1] == 0: \n",
    "            a = list(i[0:4])\n",
    "    numbers = re.findall(r'\\d+', str(a))\n",
    "    string_ = str(numbers[0]+'.'+numbers[1]+' '+numbers[3]+'.'+numbers[4]+' '+numbers[6]+'.'+numbers[7]+' '+numbers[9]+'.'+numbers[10])\n",
    "    string_ = \"18 \" + string_\n",
    "    \n",
    "    \n",
    "    \n",
    "    with open('data/labels/'+str(file_name[:-4])+\".txt\", \"w\") as f:\n",
    "        f.write(string_)"
   ]
  },
  {
   "cell_type": "code",
   "execution_count": null,
   "id": "1b6c0e61",
   "metadata": {},
   "outputs": [],
   "source": []
  },
  {
   "cell_type": "code",
   "execution_count": null,
   "id": "2555ff0c",
   "metadata": {},
   "outputs": [],
   "source": []
  },
  {
   "cell_type": "markdown",
   "id": "6d626759",
   "metadata": {
    "ExecuteTime": {
     "end_time": "2022-06-02T10:17:47.909138Z",
     "start_time": "2022-06-02T10:17:47.895168Z"
    }
   },
   "source": [
    "### data_5"
   ]
  },
  {
   "cell_type": "code",
   "execution_count": null,
   "id": "04bac9c3",
   "metadata": {},
   "outputs": [],
   "source": [
    "### data_5는 컬러사진 상체 /총 약 2천장  5번은 yolo로 한번 찾아야 함."
   ]
  },
  {
   "cell_type": "code",
   "execution_count": null,
   "id": "973df75c",
   "metadata": {},
   "outputs": [],
   "source": [
    "# data_2와 같은 출처 / https://www.kaggle.com/datasets/serenaraju/yawn-eye-dataset-new"
   ]
  },
  {
   "cell_type": "code",
   "execution_count": null,
   "id": "4c074899",
   "metadata": {},
   "outputs": [],
   "source": [
    "# Awake"
   ]
  },
  {
   "cell_type": "code",
   "execution_count": 73,
   "id": "6ea77a04",
   "metadata": {
    "ExecuteTime": {
     "end_time": "2022-06-02T11:46:05.692352Z",
     "start_time": "2022-06-02T11:45:36.687182Z"
    }
   },
   "outputs": [],
   "source": [
    "path_dir = 'dataset/data_5/Awake'\n",
    "file_list = os.listdir(path_dir)\n",
    "for file_name in file_list:\n",
    "    path = path_dir + \"/\"+ file_name\n",
    "    image_pil = Image.open(path)\n",
    "    img = np.array(image_pil)\n",
    "    results = model(img)\n",
    "    for i in results.xywhn[0]:\n",
    "        if i[-1] == 0: \n",
    "            a = list(i[0:4])\n",
    "    numbers = re.findall(r'\\d+', str(a))\n",
    "    string_ = str(numbers[0]+'.'+numbers[1]+' '+numbers[3]+'.'+numbers[4]+' '+numbers[6]+'.'+numbers[7]+' '+numbers[9]+'.'+numbers[10])\n",
    "    string_ = \"17 \" + string_\n",
    "    \n",
    "    \n",
    "    \n",
    "    with open('data/labels/'+str(file_name[:-4])+\".txt\", \"w\") as f:\n",
    "        f.write(string_)"
   ]
  },
  {
   "cell_type": "code",
   "execution_count": null,
   "id": "71e159c6",
   "metadata": {},
   "outputs": [],
   "source": [
    "# Drowsy"
   ]
  },
  {
   "cell_type": "code",
   "execution_count": 74,
   "id": "702ec850",
   "metadata": {
    "ExecuteTime": {
     "end_time": "2022-06-02T11:46:47.903990Z",
     "start_time": "2022-06-02T11:46:05.728257Z"
    }
   },
   "outputs": [],
   "source": [
    "path_dir = 'dataset/data_5/Drowsy'\n",
    "file_list = os.listdir(path_dir)\n",
    "for file_name in file_list:\n",
    "    path = path_dir + \"/\"+ file_name\n",
    "    image_pil = Image.open(path)\n",
    "    img = np.array(image_pil)\n",
    "    results = model(img)\n",
    "    for i in results.xywhn[0]:\n",
    "        if i[-1] == 0: \n",
    "            a = list(i[0:4])\n",
    "    numbers = re.findall(r'\\d+', str(a))\n",
    "    string_ = str(numbers[0]+'.'+numbers[1]+' '+numbers[3]+'.'+numbers[4]+' '+numbers[6]+'.'+numbers[7]+' '+numbers[9]+'.'+numbers[10])\n",
    "    string_ = \"18 \" + string_\n",
    "    \n",
    "    \n",
    "    \n",
    "    with open('data/labels/'+str(file_name[:-4])+\".txt\", \"w\") as f:\n",
    "        f.write(string_)"
   ]
  },
  {
   "cell_type": "code",
   "execution_count": null,
   "id": "d3391d20",
   "metadata": {},
   "outputs": [],
   "source": []
  },
  {
   "cell_type": "code",
   "execution_count": null,
   "id": "7d3c40a4",
   "metadata": {},
   "outputs": [],
   "source": []
  },
  {
   "cell_type": "code",
   "execution_count": null,
   "id": "dc406329",
   "metadata": {},
   "outputs": [],
   "source": []
  }
 ],
 "metadata": {
  "kernelspec": {
   "display_name": "Python 3",
   "language": "python",
   "name": "python3"
  },
  "language_info": {
   "codemirror_mode": {
    "name": "ipython",
    "version": 3
   },
   "file_extension": ".py",
   "mimetype": "text/x-python",
   "name": "python",
   "nbconvert_exporter": "python",
   "pygments_lexer": "ipython3",
   "version": "3.8.8"
  },
  "toc": {
   "base_numbering": 1,
   "nav_menu": {},
   "number_sections": true,
   "sideBar": true,
   "skip_h1_title": false,
   "title_cell": "Table of Contents",
   "title_sidebar": "Contents",
   "toc_cell": false,
   "toc_position": {},
   "toc_section_display": true,
   "toc_window_display": false
  },
  "varInspector": {
   "cols": {
    "lenName": 16,
    "lenType": 16,
    "lenVar": 40
   },
   "kernels_config": {
    "python": {
     "delete_cmd_postfix": "",
     "delete_cmd_prefix": "del ",
     "library": "var_list.py",
     "varRefreshCmd": "print(var_dic_list())"
    },
    "r": {
     "delete_cmd_postfix": ") ",
     "delete_cmd_prefix": "rm(",
     "library": "var_list.r",
     "varRefreshCmd": "cat(var_dic_list()) "
    }
   },
   "types_to_exclude": [
    "module",
    "function",
    "builtin_function_or_method",
    "instance",
    "_Feature"
   ],
   "window_display": false
  }
 },
 "nbformat": 4,
 "nbformat_minor": 5
}
